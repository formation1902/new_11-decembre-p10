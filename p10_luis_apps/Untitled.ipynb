{
 "cells": [
  {
   "cell_type": "code",
   "execution_count": 1,
   "id": "close-scroll",
   "metadata": {},
   "outputs": [],
   "source": [
    "import pandas as pd"
   ]
  },
  {
   "cell_type": "code",
   "execution_count": 2,
   "id": "quality-auction",
   "metadata": {},
   "outputs": [],
   "source": [
    "df = pd.read_csv('model_data/training_data.csv')"
   ]
  },
  {
   "cell_type": "code",
   "execution_count": 6,
   "id": "retired-request",
   "metadata": {},
   "outputs": [
    {
     "data": {
      "text/plain": [
       "array(['I would like a vacation for one in Mannheim from August 17 to September 7. My city of departure is Porto Alegre. It should cost less than $3000.',\n",
       "       'I want to go to brasilia from mannheim, can you recommend me packages from Saturday august 27 to Monday, September 12 for 2500 for 1 adult',\n",
       "       'hi. I want to go to Tofino from Burlington. please recommend me packages from Sunday 21 to August 24 for 2200 for 7 adults.',\n",
       "       'toronto to calgary september 9 to september 13\\n2600 dollars or less',\n",
       "       \"I would like to go on a trip with my wife and 2 kids. Our budget is 3700 and we'd like to go between august 27th and september 10th. I've been thinking about going to Curitiba from Paris\",\n",
       "       'I wanna go on a vacation with my wife and 4 kids. our budget is 3300 and we want to travel between september 6th and 21st. We were looking at going to Denver from Dallas.',\n",
       "       \"Hi there. I have been tasked with bringing my big beautiful family on a trip! We need to go between August 30 and September 20. We've got 13100 dollars to spend and are leaving from Dublin. Lets hear whats available in St. Louis!\",\n",
       "       'i am looking to explore some options for an upcoming internship. i have a week off from sept 2-9 to see where i’d like to spend my next 6 months\\ni have a 5800 budget and im leaving from la paz\\ncan you tell me whats available in Ulsan',\n",
       "       'I just got an intership and I need to check out my possibilities Puebla to Minneapolis and I have a 4300 budget to travel between Septemeber second until september eighteenth',\n",
       "       'I’m looking to check out san fran and I currently live in Rome I have a couple weeks from Sept 5-22 off to check out Sanf\\nbut only 2800 USD to spend',\n",
       "       'Portland to St. Petersburg please. Under 3300 please\\nSept 13-17',\n",
       "       'Hello. I\\'ve received an offer of temporary employment from a global ad agency. I am currently trying to determine which office to work in\\nWhich is entirely predicated on the selection of travel packages that you can offer me\\nMy point of departure is Barcelona \"Look at flights to Manas please.\\nIt must be between Aug 31 and Sep 16\\nIt must also be less than 1900\"',\n",
       "       'hi i want 2 bring my wife and kid 2 boston from philadelphia for 1600 from august 30 until september 14',\n",
       "       'I need to be in Cleveland at some point between September 6 to 16. Burlington being the point of departure\\nCan you do this for 2100?',\n",
       "       'Hey, i want to go to rome from kochi. Can you find me some packages between september 2nd and 6th for 4300',\n",
       "       'HAve 2500 to try to get to my internship. Need to leave Phoenix between September 8 and 17. Could that get me tickets to Kingston?',\n",
       "       'I want to find a vacation between September 12th and 18th to San Diego from Calgary for under 1800.',\n",
       "       'I’m looking to book a vacation between september 18th and 22nd to Vitoria from North Vancouver for under 2700',\n",
       "       'i live in new york. i have 2600 dollars to spend. i can travel between september 5th and 24th.\\nwhat can you find me in leon',\n",
       "       'hi. paris to curitiba on september 24 please\\ni can spend 2300 dollars and must be home by 27th',\n",
       "       'I want to go to denver from frankfurt for under 2900 from september 8th to 13th',\n",
       "       'Can you help me find a vacation package from Indianapolis to Essen for under 3500 and between September 6th and 22nd please?',\n",
       "       'I want to go to Miami from Beijing  between september 6th and 9th for 3500 and 5 adults altogether. The only thing I am flexible with is the price, if i need to I can increase it by 200',\n",
       "       'Me and 3 friends are going on fall break and want to go to San Diego from Calgary from the 8th to 25th and we have 14000 between us.'],\n",
       "      dtype=object)"
      ]
     },
     "execution_count": 6,
     "metadata": {},
     "output_type": "execute_result"
    }
   ],
   "source": [
    "df[df.absent_n==0].text.values"
   ]
  },
  {
   "cell_type": "code",
   "execution_count": null,
   "id": "frequent-paste",
   "metadata": {},
   "outputs": [],
   "source": []
  }
 ],
 "metadata": {
  "kernelspec": {
   "display_name": "Python 3",
   "language": "python",
   "name": "python3"
  },
  "language_info": {
   "codemirror_mode": {
    "name": "ipython",
    "version": 3
   },
   "file_extension": ".py",
   "mimetype": "text/x-python",
   "name": "python",
   "nbconvert_exporter": "python",
   "pygments_lexer": "ipython3",
   "version": "3.8.8"
  }
 },
 "nbformat": 4,
 "nbformat_minor": 5
}
